{
 "cells": [
  {
   "cell_type": "markdown",
   "id": "3373a7f1",
   "metadata": {
    "toc": true
   },
   "source": [
    "<h1>Table of Contents<span class=\"tocSkip\"></span></h1>\n",
    "<div class=\"toc\"><ul class=\"toc-item\"><li><span><a href=\"#Teoría\" data-toc-modified-id=\"Teoría-1\"><span class=\"toc-item-num\">1&nbsp;&nbsp;</span>Teoría</a></span></li><li><span><a href=\"#Práctica\" data-toc-modified-id=\"Práctica-2\"><span class=\"toc-item-num\">2&nbsp;&nbsp;</span>Práctica</a></span><ul class=\"toc-item\"><li><span><a href=\"#Librerías\" data-toc-modified-id=\"Librerías-2.1\"><span class=\"toc-item-num\">2.1&nbsp;&nbsp;</span>Librerías</a></span></li><li><span><a href=\"#Datos\" data-toc-modified-id=\"Datos-2.2\"><span class=\"toc-item-num\">2.2&nbsp;&nbsp;</span>Datos</a></span></li></ul></li><li><span><a href=\"#Análisis\" data-toc-modified-id=\"Análisis-3\"><span class=\"toc-item-num\">3&nbsp;&nbsp;</span>Análisis</a></span></li><li><span><a href=\"#Referencias\" data-toc-modified-id=\"Referencias-4\"><span class=\"toc-item-num\">4&nbsp;&nbsp;</span>Referencias</a></span></li></ul></div>"
   ]
  },
  {
   "cell_type": "markdown",
   "id": "077867d3",
   "metadata": {},
   "source": [
    "## Teoría"
   ]
  },
  {
   "cell_type": "markdown",
   "id": "c19322cd",
   "metadata": {},
   "source": []
  },
  {
   "cell_type": "markdown",
   "id": "a198bbdd",
   "metadata": {},
   "source": [
    "## Práctica"
   ]
  },
  {
   "cell_type": "markdown",
   "id": "58310f1c",
   "metadata": {},
   "source": [
    "### Librerías"
   ]
  },
  {
   "cell_type": "code",
   "execution_count": 1,
   "id": "d30203dc",
   "metadata": {
    "ExecuteTime": {
     "end_time": "2021-08-31T17:56:34.660940Z",
     "start_time": "2021-08-31T17:56:34.434070Z"
    }
   },
   "outputs": [],
   "source": [
    "import pandas as pd"
   ]
  },
  {
   "cell_type": "markdown",
   "id": "53d843ee",
   "metadata": {},
   "source": [
    "### Datos"
   ]
  },
  {
   "cell_type": "code",
   "execution_count": 2,
   "id": "0f1caa8b",
   "metadata": {
    "ExecuteTime": {
     "end_time": "2021-08-31T17:56:34.903340Z",
     "start_time": "2021-08-31T17:56:34.892724Z"
    }
   },
   "outputs": [],
   "source": [
    "def cargar_datos(fd, round_dt='H'):\n",
    "    \"\"\"\n",
    "    Cargar datos a partir de un fichero csv.\n",
    "    \n",
    "    Args:\n",
    "    -----\n",
    "    fd [{str}] -- Directorio del fichero csv a cargar para velas de horas.\n",
    "    round_dt {[str]} -- Palabra clave para redondear la hora de cierre.\n",
    "    \n",
    "    Returns:\n",
    "    -------\n",
    "    df [{pandas.DataFrame}] -- DataFrame con los datos en el formato adecuado.\n",
    "    \"\"\"\n",
    "    \n",
    "    columns = [\n",
    "        'open_time',\n",
    "        'close_time',\n",
    "        'symbol',\n",
    "        'open',\n",
    "        'high',\n",
    "        'low',\n",
    "        'close',\n",
    "        'volume',\n",
    "        'numbertrades'\n",
    "    ]\n",
    "\n",
    "    df = pd.read_csv(fd, sep=';', encoding='utf-8-sig')\n",
    "    df.columns = [col_name.lower() for col_name in df.columns.to_list()]\n",
    "    df.rename(\n",
    "    {\n",
    "        'opentime': 'open_time',\n",
    "        'closetime': 'close_time',\n",
    "\n",
    "    }, axis=1, inplace=True)\n",
    "\n",
    "    df = df[columns].copy()\n",
    "\n",
    "    df['open_time'] = pd.to_datetime(df['open_time'], format='%Y-%m-%d %H:%M:%S').dt.round(round_dt)\n",
    "    df['close_time'] = pd.to_datetime(df['close_time'], format='%Y-%m-%d %H:%M:%S').dt.round(round_dt)\n",
    "    \n",
    "    df.set_index('open_time', inplace=True)\n",
    "    df.sort_index(ascending=True, inplace=True)\n",
    "    \n",
    "    return df"
   ]
  },
  {
   "cell_type": "code",
   "execution_count": 3,
   "id": "e7e3122e",
   "metadata": {
    "ExecuteTime": {
     "end_time": "2021-08-31T17:56:35.518345Z",
     "start_time": "2021-08-31T17:56:35.393917Z"
    }
   },
   "outputs": [],
   "source": [
    "filename_dir = '../data/binance/2021-07-31 15:31:52/BTCUSDT_1h.csv'\n",
    "\n",
    "df_btcusdt = cargar_datos(fd=filename_dir, round_dt='H')"
   ]
  },
  {
   "cell_type": "code",
   "execution_count": 4,
   "id": "411337a5",
   "metadata": {
    "ExecuteTime": {
     "end_time": "2021-08-31T17:56:35.638278Z",
     "start_time": "2021-08-31T17:56:35.617575Z"
    }
   },
   "outputs": [
    {
     "data": {
      "text/html": [
       "<div>\n",
       "<style scoped>\n",
       "    .dataframe tbody tr th:only-of-type {\n",
       "        vertical-align: middle;\n",
       "    }\n",
       "\n",
       "    .dataframe tbody tr th {\n",
       "        vertical-align: top;\n",
       "    }\n",
       "\n",
       "    .dataframe thead th {\n",
       "        text-align: right;\n",
       "    }\n",
       "</style>\n",
       "<table border=\"1\" class=\"dataframe\">\n",
       "  <thead>\n",
       "    <tr style=\"text-align: right;\">\n",
       "      <th></th>\n",
       "      <th>close_time</th>\n",
       "      <th>symbol</th>\n",
       "      <th>open</th>\n",
       "      <th>high</th>\n",
       "      <th>low</th>\n",
       "      <th>close</th>\n",
       "      <th>volume</th>\n",
       "      <th>numbertrades</th>\n",
       "    </tr>\n",
       "    <tr>\n",
       "      <th>open_time</th>\n",
       "      <th></th>\n",
       "      <th></th>\n",
       "      <th></th>\n",
       "      <th></th>\n",
       "      <th></th>\n",
       "      <th></th>\n",
       "      <th></th>\n",
       "      <th></th>\n",
       "    </tr>\n",
       "  </thead>\n",
       "  <tbody>\n",
       "    <tr>\n",
       "      <th>2018-01-01 00:00:00</th>\n",
       "      <td>2018-01-01 01:00:00</td>\n",
       "      <td>BTCUSDT</td>\n",
       "      <td>13715.65</td>\n",
       "      <td>13715.65</td>\n",
       "      <td>13400.01</td>\n",
       "      <td>13529.01</td>\n",
       "      <td>443.356199</td>\n",
       "      <td>5228</td>\n",
       "    </tr>\n",
       "    <tr>\n",
       "      <th>2018-01-01 01:00:00</th>\n",
       "      <td>2018-01-01 02:00:00</td>\n",
       "      <td>BTCUSDT</td>\n",
       "      <td>13528.99</td>\n",
       "      <td>13595.89</td>\n",
       "      <td>13155.38</td>\n",
       "      <td>13203.06</td>\n",
       "      <td>383.697006</td>\n",
       "      <td>4534</td>\n",
       "    </tr>\n",
       "    <tr>\n",
       "      <th>2018-01-01 02:00:00</th>\n",
       "      <td>2018-01-01 03:00:00</td>\n",
       "      <td>BTCUSDT</td>\n",
       "      <td>13203.00</td>\n",
       "      <td>13418.43</td>\n",
       "      <td>13200.00</td>\n",
       "      <td>13330.18</td>\n",
       "      <td>429.064572</td>\n",
       "      <td>4887</td>\n",
       "    </tr>\n",
       "    <tr>\n",
       "      <th>2018-01-01 03:00:00</th>\n",
       "      <td>2018-01-01 04:00:00</td>\n",
       "      <td>BTCUSDT</td>\n",
       "      <td>13330.26</td>\n",
       "      <td>13611.27</td>\n",
       "      <td>13290.00</td>\n",
       "      <td>13410.03</td>\n",
       "      <td>420.087030</td>\n",
       "      <td>4789</td>\n",
       "    </tr>\n",
       "    <tr>\n",
       "      <th>2018-01-01 04:00:00</th>\n",
       "      <td>2018-01-01 05:00:00</td>\n",
       "      <td>BTCUSDT</td>\n",
       "      <td>13434.98</td>\n",
       "      <td>13623.29</td>\n",
       "      <td>13322.15</td>\n",
       "      <td>13601.01</td>\n",
       "      <td>340.807329</td>\n",
       "      <td>4563</td>\n",
       "    </tr>\n",
       "    <tr>\n",
       "      <th>...</th>\n",
       "      <td>...</td>\n",
       "      <td>...</td>\n",
       "      <td>...</td>\n",
       "      <td>...</td>\n",
       "      <td>...</td>\n",
       "      <td>...</td>\n",
       "      <td>...</td>\n",
       "      <td>...</td>\n",
       "    </tr>\n",
       "    <tr>\n",
       "      <th>2021-07-31 10:00:00</th>\n",
       "      <td>2021-07-31 11:00:00</td>\n",
       "      <td>BTCUSDT</td>\n",
       "      <td>41639.96</td>\n",
       "      <td>41916.64</td>\n",
       "      <td>41605.80</td>\n",
       "      <td>41787.54</td>\n",
       "      <td>1364.416936</td>\n",
       "      <td>35992</td>\n",
       "    </tr>\n",
       "    <tr>\n",
       "      <th>2021-07-31 11:00:00</th>\n",
       "      <td>2021-07-31 12:00:00</td>\n",
       "      <td>BTCUSDT</td>\n",
       "      <td>41785.07</td>\n",
       "      <td>41817.85</td>\n",
       "      <td>41337.02</td>\n",
       "      <td>41592.15</td>\n",
       "      <td>2223.754782</td>\n",
       "      <td>93411</td>\n",
       "    </tr>\n",
       "    <tr>\n",
       "      <th>2021-07-31 12:00:00</th>\n",
       "      <td>2021-07-31 13:00:00</td>\n",
       "      <td>BTCUSDT</td>\n",
       "      <td>41592.14</td>\n",
       "      <td>41725.52</td>\n",
       "      <td>41478.00</td>\n",
       "      <td>41654.98</td>\n",
       "      <td>1202.806699</td>\n",
       "      <td>76379</td>\n",
       "    </tr>\n",
       "    <tr>\n",
       "      <th>2021-07-31 13:00:00</th>\n",
       "      <td>2021-07-31 14:00:00</td>\n",
       "      <td>BTCUSDT</td>\n",
       "      <td>41654.99</td>\n",
       "      <td>41699.72</td>\n",
       "      <td>41231.53</td>\n",
       "      <td>41381.94</td>\n",
       "      <td>2202.936760</td>\n",
       "      <td>44912</td>\n",
       "    </tr>\n",
       "    <tr>\n",
       "      <th>2021-07-31 14:00:00</th>\n",
       "      <td>2021-07-31 15:00:00</td>\n",
       "      <td>BTCUSDT</td>\n",
       "      <td>41381.93</td>\n",
       "      <td>41419.95</td>\n",
       "      <td>41000.15</td>\n",
       "      <td>41379.71</td>\n",
       "      <td>789.454835</td>\n",
       "      <td>30557</td>\n",
       "    </tr>\n",
       "  </tbody>\n",
       "</table>\n",
       "<p>31270 rows × 8 columns</p>\n",
       "</div>"
      ],
      "text/plain": [
       "                             close_time   symbol      open      high  \\\n",
       "open_time                                                              \n",
       "2018-01-01 00:00:00 2018-01-01 01:00:00  BTCUSDT  13715.65  13715.65   \n",
       "2018-01-01 01:00:00 2018-01-01 02:00:00  BTCUSDT  13528.99  13595.89   \n",
       "2018-01-01 02:00:00 2018-01-01 03:00:00  BTCUSDT  13203.00  13418.43   \n",
       "2018-01-01 03:00:00 2018-01-01 04:00:00  BTCUSDT  13330.26  13611.27   \n",
       "2018-01-01 04:00:00 2018-01-01 05:00:00  BTCUSDT  13434.98  13623.29   \n",
       "...                                 ...      ...       ...       ...   \n",
       "2021-07-31 10:00:00 2021-07-31 11:00:00  BTCUSDT  41639.96  41916.64   \n",
       "2021-07-31 11:00:00 2021-07-31 12:00:00  BTCUSDT  41785.07  41817.85   \n",
       "2021-07-31 12:00:00 2021-07-31 13:00:00  BTCUSDT  41592.14  41725.52   \n",
       "2021-07-31 13:00:00 2021-07-31 14:00:00  BTCUSDT  41654.99  41699.72   \n",
       "2021-07-31 14:00:00 2021-07-31 15:00:00  BTCUSDT  41381.93  41419.95   \n",
       "\n",
       "                          low     close       volume  numbertrades  \n",
       "open_time                                                           \n",
       "2018-01-01 00:00:00  13400.01  13529.01   443.356199          5228  \n",
       "2018-01-01 01:00:00  13155.38  13203.06   383.697006          4534  \n",
       "2018-01-01 02:00:00  13200.00  13330.18   429.064572          4887  \n",
       "2018-01-01 03:00:00  13290.00  13410.03   420.087030          4789  \n",
       "2018-01-01 04:00:00  13322.15  13601.01   340.807329          4563  \n",
       "...                       ...       ...          ...           ...  \n",
       "2021-07-31 10:00:00  41605.80  41787.54  1364.416936         35992  \n",
       "2021-07-31 11:00:00  41337.02  41592.15  2223.754782         93411  \n",
       "2021-07-31 12:00:00  41478.00  41654.98  1202.806699         76379  \n",
       "2021-07-31 13:00:00  41231.53  41381.94  2202.936760         44912  \n",
       "2021-07-31 14:00:00  41000.15  41379.71   789.454835         30557  \n",
       "\n",
       "[31270 rows x 8 columns]"
      ]
     },
     "execution_count": 4,
     "metadata": {},
     "output_type": "execute_result"
    }
   ],
   "source": [
    "df_btcusdt"
   ]
  },
  {
   "cell_type": "code",
   "execution_count": 5,
   "id": "5b97f522",
   "metadata": {
    "ExecuteTime": {
     "end_time": "2021-08-31T17:56:36.066350Z",
     "start_time": "2021-08-31T17:56:36.046560Z"
    }
   },
   "outputs": [
    {
     "name": "stdout",
     "output_type": "stream",
     "text": [
      "<class 'pandas.core.frame.DataFrame'>\n",
      "DatetimeIndex: 31270 entries, 2018-01-01 00:00:00 to 2021-07-31 14:00:00\n",
      "Data columns (total 8 columns):\n",
      " #   Column        Non-Null Count  Dtype         \n",
      "---  ------        --------------  -----         \n",
      " 0   close_time    31270 non-null  datetime64[ns]\n",
      " 1   symbol        31270 non-null  object        \n",
      " 2   open          31270 non-null  float64       \n",
      " 3   high          31270 non-null  float64       \n",
      " 4   low           31270 non-null  float64       \n",
      " 5   close         31270 non-null  float64       \n",
      " 6   volume        31270 non-null  float64       \n",
      " 7   numbertrades  31270 non-null  int64         \n",
      "dtypes: datetime64[ns](1), float64(5), int64(1), object(1)\n",
      "memory usage: 2.1+ MB\n"
     ]
    }
   ],
   "source": [
    "df_btcusdt.info()"
   ]
  },
  {
   "cell_type": "code",
   "execution_count": 6,
   "id": "369b22e2",
   "metadata": {
    "ExecuteTime": {
     "end_time": "2021-08-31T17:56:36.657278Z",
     "start_time": "2021-08-31T17:56:36.618777Z"
    }
   },
   "outputs": [
    {
     "data": {
      "text/html": [
       "<div>\n",
       "<style scoped>\n",
       "    .dataframe tbody tr th:only-of-type {\n",
       "        vertical-align: middle;\n",
       "    }\n",
       "\n",
       "    .dataframe tbody tr th {\n",
       "        vertical-align: top;\n",
       "    }\n",
       "\n",
       "    .dataframe thead th {\n",
       "        text-align: right;\n",
       "    }\n",
       "</style>\n",
       "<table border=\"1\" class=\"dataframe\">\n",
       "  <thead>\n",
       "    <tr style=\"text-align: right;\">\n",
       "      <th></th>\n",
       "      <th>open</th>\n",
       "      <th>high</th>\n",
       "      <th>low</th>\n",
       "      <th>close</th>\n",
       "      <th>volume</th>\n",
       "      <th>numbertrades</th>\n",
       "    </tr>\n",
       "  </thead>\n",
       "  <tbody>\n",
       "    <tr>\n",
       "      <th>count</th>\n",
       "      <td>31270.000000</td>\n",
       "      <td>31270.000000</td>\n",
       "      <td>31270.000000</td>\n",
       "      <td>31270.000000</td>\n",
       "      <td>31270.000000</td>\n",
       "      <td>31270.000000</td>\n",
       "    </tr>\n",
       "    <tr>\n",
       "      <th>mean</th>\n",
       "      <td>14409.270091</td>\n",
       "      <td>14500.335829</td>\n",
       "      <td>14310.459262</td>\n",
       "      <td>14410.150050</td>\n",
       "      <td>2322.347689</td>\n",
       "      <td>31208.474832</td>\n",
       "    </tr>\n",
       "    <tr>\n",
       "      <th>std</th>\n",
       "      <td>14096.726478</td>\n",
       "      <td>14199.942867</td>\n",
       "      <td>13985.427101</td>\n",
       "      <td>14097.550118</td>\n",
       "      <td>2254.289959</td>\n",
       "      <td>36643.902963</td>\n",
       "    </tr>\n",
       "    <tr>\n",
       "      <th>min</th>\n",
       "      <td>3172.620000</td>\n",
       "      <td>3184.750000</td>\n",
       "      <td>3156.260000</td>\n",
       "      <td>3172.050000</td>\n",
       "      <td>0.000000</td>\n",
       "      <td>0.000000</td>\n",
       "    </tr>\n",
       "    <tr>\n",
       "      <th>25%</th>\n",
       "      <td>6747.750000</td>\n",
       "      <td>6780.000000</td>\n",
       "      <td>6719.055000</td>\n",
       "      <td>6748.900000</td>\n",
       "      <td>1056.753505</td>\n",
       "      <td>8976.000000</td>\n",
       "    </tr>\n",
       "    <tr>\n",
       "      <th>50%</th>\n",
       "      <td>9107.630000</td>\n",
       "      <td>9140.805000</td>\n",
       "      <td>9065.770000</td>\n",
       "      <td>9107.950000</td>\n",
       "      <td>1685.253395</td>\n",
       "      <td>17275.000000</td>\n",
       "    </tr>\n",
       "    <tr>\n",
       "      <th>75%</th>\n",
       "      <td>11720.385000</td>\n",
       "      <td>11769.855000</td>\n",
       "      <td>11656.442500</td>\n",
       "      <td>11720.000000</td>\n",
       "      <td>2776.522279</td>\n",
       "      <td>38484.500000</td>\n",
       "    </tr>\n",
       "    <tr>\n",
       "      <th>max</th>\n",
       "      <td>64577.250000</td>\n",
       "      <td>64854.000000</td>\n",
       "      <td>64280.000000</td>\n",
       "      <td>64577.260000</td>\n",
       "      <td>47255.762685</td>\n",
       "      <td>799206.000000</td>\n",
       "    </tr>\n",
       "  </tbody>\n",
       "</table>\n",
       "</div>"
      ],
      "text/plain": [
       "               open          high           low         close        volume  \\\n",
       "count  31270.000000  31270.000000  31270.000000  31270.000000  31270.000000   \n",
       "mean   14409.270091  14500.335829  14310.459262  14410.150050   2322.347689   \n",
       "std    14096.726478  14199.942867  13985.427101  14097.550118   2254.289959   \n",
       "min     3172.620000   3184.750000   3156.260000   3172.050000      0.000000   \n",
       "25%     6747.750000   6780.000000   6719.055000   6748.900000   1056.753505   \n",
       "50%     9107.630000   9140.805000   9065.770000   9107.950000   1685.253395   \n",
       "75%    11720.385000  11769.855000  11656.442500  11720.000000   2776.522279   \n",
       "max    64577.250000  64854.000000  64280.000000  64577.260000  47255.762685   \n",
       "\n",
       "        numbertrades  \n",
       "count   31270.000000  \n",
       "mean    31208.474832  \n",
       "std     36643.902963  \n",
       "min         0.000000  \n",
       "25%      8976.000000  \n",
       "50%     17275.000000  \n",
       "75%     38484.500000  \n",
       "max    799206.000000  "
      ]
     },
     "execution_count": 6,
     "metadata": {},
     "output_type": "execute_result"
    }
   ],
   "source": [
    "df_btcusdt.describe()"
   ]
  },
  {
   "cell_type": "code",
   "execution_count": 7,
   "id": "6b1c3eb0",
   "metadata": {
    "ExecuteTime": {
     "end_time": "2021-08-31T17:56:37.009223Z",
     "start_time": "2021-08-31T17:56:37.002577Z"
    }
   },
   "outputs": [
    {
     "data": {
      "text/plain": [
       "DatetimeIndex(['2018-01-01 00:00:00', '2018-01-01 01:00:00',\n",
       "               '2018-01-01 02:00:00', '2018-01-01 03:00:00',\n",
       "               '2018-01-01 04:00:00', '2018-01-01 05:00:00',\n",
       "               '2018-01-01 06:00:00', '2018-01-01 07:00:00',\n",
       "               '2018-01-01 08:00:00', '2018-01-01 09:00:00',\n",
       "               ...\n",
       "               '2021-07-31 05:00:00', '2021-07-31 06:00:00',\n",
       "               '2021-07-31 07:00:00', '2021-07-31 08:00:00',\n",
       "               '2021-07-31 09:00:00', '2021-07-31 10:00:00',\n",
       "               '2021-07-31 11:00:00', '2021-07-31 12:00:00',\n",
       "               '2021-07-31 13:00:00', '2021-07-31 14:00:00'],\n",
       "              dtype='datetime64[ns]', name='open_time', length=31270, freq=None)"
      ]
     },
     "execution_count": 7,
     "metadata": {},
     "output_type": "execute_result"
    }
   ],
   "source": [
    "df_btcusdt.index"
   ]
  },
  {
   "cell_type": "markdown",
   "id": "02a90570",
   "metadata": {},
   "source": [
    "## Análisis"
   ]
  },
  {
   "cell_type": "code",
   "execution_count": null,
   "id": "4908601c",
   "metadata": {},
   "outputs": [],
   "source": []
  },
  {
   "cell_type": "markdown",
   "id": "341fd487",
   "metadata": {},
   "source": [
    "## Referencias"
   ]
  },
  {
   "cell_type": "markdown",
   "id": "e6e078d4",
   "metadata": {},
   "source": [
    "- [1] How to build a Bitcoin Sentiment Analysis using Python and Twitter. [url: https://medium.com/analytics-vidhya/how-to-build-a-bitcoin-sentiment-analysis-using-python-and-twitter-beb89e6ce0c8]"
   ]
  }
 ],
 "metadata": {
  "kernelspec": {
   "display_name": "Python 3",
   "language": "python",
   "name": "python3"
  },
  "language_info": {
   "codemirror_mode": {
    "name": "ipython",
    "version": 3
   },
   "file_extension": ".py",
   "mimetype": "text/x-python",
   "name": "python",
   "nbconvert_exporter": "python",
   "pygments_lexer": "ipython3",
   "version": "3.8.10"
  },
  "nbTranslate": {
   "displayLangs": [
    "*"
   ],
   "hotkey": "alt-t",
   "langInMainMenu": true,
   "sourceLang": "en",
   "targetLang": "fr",
   "useGoogleTranslate": true
  },
  "toc": {
   "base_numbering": 1,
   "nav_menu": {},
   "number_sections": true,
   "sideBar": true,
   "skip_h1_title": true,
   "title_cell": "Table of Contents",
   "title_sidebar": "Contents",
   "toc_cell": true,
   "toc_position": {},
   "toc_section_display": true,
   "toc_window_display": false
  },
  "varInspector": {
   "cols": {
    "lenName": 16,
    "lenType": 16,
    "lenVar": 40
   },
   "kernels_config": {
    "python": {
     "delete_cmd_postfix": "",
     "delete_cmd_prefix": "del ",
     "library": "var_list.py",
     "varRefreshCmd": "print(var_dic_list())"
    },
    "r": {
     "delete_cmd_postfix": ") ",
     "delete_cmd_prefix": "rm(",
     "library": "var_list.r",
     "varRefreshCmd": "cat(var_dic_list()) "
    }
   },
   "types_to_exclude": [
    "module",
    "function",
    "builtin_function_or_method",
    "instance",
    "_Feature"
   ],
   "window_display": false
  }
 },
 "nbformat": 4,
 "nbformat_minor": 5
}
